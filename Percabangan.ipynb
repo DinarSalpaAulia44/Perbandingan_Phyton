{
 "cells": [
  {
   "cell_type": "markdown",
   "id": "89954123",
   "metadata": {},
   "source": [
    "<h1>Percabangan</h1><hl>"
   ]
  },
  {
   "cell_type": "markdown",
   "id": "86983e0e",
   "metadata": {},
   "source": [
    "<h3>1. Jika terdapat 1 kondisi</h3>\n"
   ]
  },
  {
   "cell_type": "markdown",
   "id": "8c771409",
   "metadata": {},
   "source": [
    "    if kondisi :  --> Operator perbandingan (<=,=>,<,>)\n",
    "    <tab> statement 1 (statement tidak boleh sejajar dengan if kondisi)"
   ]
  },
  {
   "cell_type": "code",
   "execution_count": 3,
   "id": "88991f7b",
   "metadata": {},
   "outputs": [
    {
     "name": "stdout",
     "output_type": "stream",
     "text": [
      "Dingin\n",
      "Hari ini sangat Cerah\n"
     ]
    }
   ],
   "source": [
    "cuaca = \"Hujan\"\n",
    "if cuaca == \"Hujan\":\n",
    "    print(\"Dingin\")\n",
    "print(\"Hari ini sangat Cerah\") ## bagian ini ga akan masuk kedalam bagian statement"
   ]
  },
  {
   "cell_type": "code",
   "execution_count": 4,
   "id": "663ef28a",
   "metadata": {},
   "outputs": [],
   "source": [
    "cuaca = \"Panas\"\n",
    "if cuaca == \"Hujan\":\n",
    "    print(\"Dingin\")\n",
    "    print(\"Hari ini sangat Cerah\") ##bagian ini akan muncul ketika kondisi if tidak terpenuhi... harusnya.. \n",
    "    #oh, sepertinya memang nggak"
   ]
  },
  {
   "cell_type": "markdown",
   "id": "e76a36a7",
   "metadata": {},
   "source": [
    "<h3>2. Jika terdapat 2 kondisi</h3>"
   ]
  },
  {
   "cell_type": "markdown",
   "id": "572a07bb",
   "metadata": {},
   "source": [
    "    if kondisi_1:\n",
    "    -tab-statement  1\n",
    "    \n",
    "    elif kondisi_2   --> kondisi ini akan dieksekusi bila kondisi kode tidakmemenuhi kondisi pertama\n",
    "    -tab-statement 2"
   ]
  },
  {
   "cell_type": "code",
   "execution_count": 5,
   "id": "672f9779",
   "metadata": {},
   "outputs": [
    {
     "name": "stdout",
     "output_type": "stream",
     "text": [
      "9 adalah bilangan ganjil\n"
     ]
    }
   ],
   "source": [
    "#menentukan ganjil genap\n",
    "nilai = 9\n",
    "sisa_bagi = nilai % 2\n",
    "if sisa_bagi == 0:\n",
    "    print(f\"{nilai} adalah bilangan genap\")\n",
    "else:\n",
    "    print(f\"{nilai} adalah bilangan ganjil\")"
   ]
  },
  {
   "cell_type": "markdown",
   "id": "c2058b17",
   "metadata": {},
   "source": [
    "<h3>3. jika terdapat kondisi lebih dari 2</h3>\n"
   ]
  },
  {
   "cell_type": "markdown",
   "id": "38ae17b5",
   "metadata": {},
   "source": [
    "\n",
    "    if kondisi_1:\n",
    "    -tab-statement 1\n",
    "    elif kondisi_2:\n",
    "    -tab-statement 2\n",
    "    elif kondisi_3:\n",
    "    -tab-statement 3\n",
    "    else kondisi_4:\n",
    "    -tab-statement 4"
   ]
  },
  {
   "cell_type": "code",
   "execution_count": 24,
   "id": "6c12e802",
   "metadata": {},
   "outputs": [
    {
     "name": "stdout",
     "output_type": "stream",
     "text": [
      "Isikan Nilai: -3\n",
      "Input salah! yang bener aje dong\n"
     ]
    }
   ],
   "source": [
    "nilai=int(input('Isikan Nilai: '))\n",
    "if nilai <= 0:\n",
    "    print (f\"Input salah! yang bener aje dong\")\n",
    "elif nilai <= 49:\n",
    "    print(f\"Nilaimu E, Jangan malas belajar!\")\n",
    "elif nilai <= 59:\n",
    "    print(f\"Nilaimu D, Belajar lebih giat lagi!\")\n",
    "elif nilai <= 69:\n",
    "    print(f\"Nilaimu C, Ayo semangat, kamu pasti bisa!\")\n",
    "elif nilai <= 84:\n",
    "    print(f\"Nilaimu B, Sedikit lagi!\")\n",
    "elif nilai <= 100:\n",
    "    print(f\"Nilaimu A, Kita dapat pemenang!\")\n",
    "else:\n",
    "    print (f\"Input salah! yang bener aje dong\")\n"
   ]
  },
  {
   "cell_type": "markdown",
   "id": "ceb49053",
   "metadata": {},
   "source": [
    "<h4> cara simpelnya </h4>"
   ]
  },
  {
   "cell_type": "code",
   "execution_count": 29,
   "id": "bd07bf4d",
   "metadata": {},
   "outputs": [
    {
     "name": "stdout",
     "output_type": "stream",
     "text": [
      "Isikan Nilai: 500\n",
      "Input salah! yang bener aje dong\n"
     ]
    }
   ],
   "source": [
    "nilai=int(input('Isikan Nilai: '))\n",
    "if nilai >=0 and nilai <=100:\n",
    "    if nilai <= 49:\n",
    "        print(f\"Nilaimu E, Jangan malas belajar!\")\n",
    "    elif nilai <= 59:\n",
    "        print(f\"Nilaimu D, Belajar lebih giat lagi!\")\n",
    "    elif nilai <= 69:\n",
    "        print(f\"Nilaimu C, Ayo semangat, kamu pasti bisa!\")\n",
    "    elif nilai <= 84:\n",
    "        print(f\"Nilaimu B, Sedikit lagi!\")\n",
    "    else:\n",
    "        print(f\"Nilaimu A, Kita dapat pemenang!\")\n",
    "else:\n",
    "    print(\"Input salah! yang bener aje dong\")\n",
    "#nanti if else pertama yang bakal di kerjain duluan sama sistemnya. jadi yang salah masuk udah dieliminasi duluan"
   ]
  },
  {
   "cell_type": "code",
   "execution_count": 38,
   "id": "ec2eeab9",
   "metadata": {},
   "outputs": [
    {
     "name": "stdout",
     "output_type": "stream",
     "text": [
      "Isikan Username: admin\n",
      "Isikan Password: admin\n",
      "Selamat datang admin!\n"
     ]
    }
   ],
   "source": [
    "username = input(\"Isikan Username: \")\n",
    "password = input(\"Isikan Password: \")\n",
    "\n",
    "if username =='admin' and password == 'admin':\n",
    "    print(f\"Selamat datang {username}!\")\n",
    "else:\n",
    "    if username == 'admin':\n",
    "        print(\"Username anda Salah\")\n",
    "    else:\n",
    "        print(\"Username dan Password anda Salah\")"
   ]
  },
  {
   "cell_type": "code",
   "execution_count": 41,
   "id": "123114dc",
   "metadata": {},
   "outputs": [
    {
     "name": "stdout",
     "output_type": "stream",
     "text": [
      "Isikan Username: admin\n",
      "Isikan Password: dominic\n",
      "Password anda Salah\n"
     ]
    }
   ],
   "source": [
    "#correct way \n",
    "username = input(\"Isikan Username: \")\n",
    "password = input(\"Isikan Password: \")\n",
    "\n",
    "if username =='admin':\n",
    "    if password == 'admin':\n",
    "        print(f\"Selamat datang {username}!\")\n",
    "    else:\n",
    "        print(\"Password anda Salah\")\n",
    "else:\n",
    "    if username == 'admin':\n",
    "        print(\"Username anda Salah\")\n",
    "    else:\n",
    "        print(\"Username dan Password anda Salah\")"
   ]
  },
  {
   "cell_type": "code",
   "execution_count": 75,
   "id": "3c8ddb8b",
   "metadata": {},
   "outputs": [
    {
     "name": "stdout",
     "output_type": "stream",
     "text": [
      "Siapa nama tersangka? Santi\n",
      "Berapa usianya? 12\n",
      "Dimana dia tinggal? Sukabumi\n",
      "Jumlah tabungannya? 2000\n"
     ]
    }
   ],
   "source": [
    "nama = input(\"Siapa nama tersangka? \")\n",
    "umur = int(input(\"Berapa usianya? \" ))\n",
    "tempat_tinggal = input(\"Dimana dia tinggal? \")\n",
    "uang_tabungan =int(input(\"Jumlah tabungannya? \"))\n",
    "\n",
    "if umur > 40:\n",
    "    if tempat_tinggal == 'Nevada' or tempat_tinggal == 'New york' or tempat_tinggal == 'Havana':\n",
    "        if uang_tabungan > 10000000:\n",
    "            print(f\"LARI!! {nama} mafia berpangkat 'Don'!!!!\")\n",
    "        else:\n",
    "            print(f\"{nama}? Dia cuma orang tua yang hobi mancing aja kok...\")\n",
    "elif umur <= 40:\n",
    "    if tempat_tinggal == 'New Jersey' or tempat_tinggal == 'Manhattan' or tempat_tinggal == 'Nevada':\n",
    "        if uang_tabungan >= 1000000:\n",
    "            print(f\"waduh kayaknya {nama} mafia berpangkat 'Underboss'!!\")\n",
    "        else:\n",
    "            print(f\"{nama} kayaknya... cuma budak korporat biasa...\")\n",
    "            \n",
    "elif umur >= 18 and umur <= 24:\n",
    "    if tempat_tinggal == 'California' or tempat_tinggal == 'Detroit' or tempat_tinggal == 'Boston':\n",
    "        if uang_tabungan < 100000:\n",
    "            print(f\"kayaknya {nama} mafia berpangkat 'Capo' deh\")\n",
    "        else:\n",
    "            print(f\"{nama}... ayo sekolah sana!\")\n",
    "else:\n",
    "    print(f\"{nama} cimit cimit tentu saja dia bukan Mafia!\") \n",
    "    #ini sepertinya nggak bekerja dengan baik ;'-') \n",
    "    #sudah aku utak atik, sepertinya cara ini hanya berfungsi pada yang lain\n",
    "    #edit ke tiga. BERHASIL WEY AAHAHAHHAHAHAHHAHAHAHHAHAHAHH\n",
    "    #lohe lohe kok gak berfungsi lagi QAQ padahalaku cuma ngubah printnya QAQ\n",
    "        "
   ]
  },
  {
   "cell_type": "code",
   "execution_count": 64,
   "id": "0c067f66",
   "metadata": {},
   "outputs": [
    {
     "name": "stdout",
     "output_type": "stream",
     "text": [
      "Siapa nama tersangka? William\n",
      "Berapa usianya? 62\n",
      "Dimana dia tinggal? Nevada\n",
      "Jumlah tabungannya? 33000000\n",
      "William kemungkinan anggota mafia dengan Don\n"
     ]
    }
   ],
   "source": [
    "#cara yang lebih simpel\n",
    "nama = input(\"Siapa nama tersangka? \")\n",
    "umur = int(input(\"Berapa usianya? \" ))\n",
    "tempat_tinggal = input(\"Dimana dia tinggal? \")\n",
    "uang_tabungan =int(input(\"Jumlah tabungannya? \"))\n",
    "\n",
    "pangkat = ''\n",
    "\n",
    "if umur > 40:\n",
    "    if tempat_tinggal == 'Nevada' or tempat_tinggal == 'New york' or tempat_tinggal == 'Havana':\n",
    "        if uang_tabungan > 10000000:\n",
    "            pangkat = 'Don'\n",
    "elif umur <= 40:\n",
    "    if tempat_tinggal == 'New Jersey' or tempat_tinggal == 'Manhattan' or tempat_tinggal == 'Nevada':\n",
    "        if uang_tabungan <= 1000000:\n",
    "            pangkat = 'Underboss'\n",
    "elif umur >= 18 and umur <= 24:\n",
    "    if tempat_tinggal == 'California' or tempat_tinggal == 'Detroit' or tempat_tinggal == 'Boston':\n",
    "        if uang_tabungan < 100000:\n",
    "            pangkat = 'Capo'\n",
    "        \n",
    "if pangkat != \"\":\n",
    "    print(f\"{nama} kemungkinan anggota mafia dengan pangkat {pangkat}\")\n",
    "else:\n",
    "    print(f\"{nama} tidak mencurigakan\")"
   ]
  },
  {
   "cell_type": "code",
   "execution_count": null,
   "id": "1cdcf14e",
   "metadata": {},
   "outputs": [],
   "source": []
  }
 ],
 "metadata": {
  "kernelspec": {
   "display_name": "Python 3 (ipykernel)",
   "language": "python",
   "name": "python3"
  },
  "language_info": {
   "codemirror_mode": {
    "name": "ipython",
    "version": 3
   },
   "file_extension": ".py",
   "mimetype": "text/x-python",
   "name": "python",
   "nbconvert_exporter": "python",
   "pygments_lexer": "ipython3",
   "version": "3.9.12"
  }
 },
 "nbformat": 4,
 "nbformat_minor": 5
}
